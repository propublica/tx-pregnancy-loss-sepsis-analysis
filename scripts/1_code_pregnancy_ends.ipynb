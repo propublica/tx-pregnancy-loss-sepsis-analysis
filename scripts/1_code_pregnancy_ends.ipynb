{
 "cells": [
  {
   "cell_type": "code",
   "execution_count": null,
   "metadata": {},
   "outputs": [],
   "source": [
    "import pandas as pd\n",
    "import numpy as np\n",
    "pd.set_option('display.max_columns', 1000)\n",
    "from utils import get_engine\n",
    "\n",
    "engine = get_engine()"
   ]
  },
  {
   "cell_type": "markdown",
   "metadata": {},
   "source": [
    "## Code pregnancy end hospitalizations"
   ]
  },
  {
   "cell_type": "markdown",
   "metadata": {},
   "source": [
    "The first part of this contains SAS code references copied from the FAD SMM methodology, translated to Pandas.\n",
    "\n",
    "Source: https://www.documentcloud.org/documents/25539312-hrsa-federally-available-data-fad-resource-document-for-fy25fy23-application-annual-report/"
   ]
  },
  {
   "cell_type": "markdown",
   "metadata": {},
   "source": [
    "### Code delivery/abortive events (HRSA algorithm)"
   ]
  },
  {
   "cell_type": "raw",
   "metadata": {
    "vscode": {
     "languageId": "raw"
    }
   },
   "source": [
    "## Identify births\n",
    "\n",
    "/* BEGIN ICD-10-CM DIAGNOSIS*/\n",
    " ELSE DO;\n",
    "   /*ANY Z37 DELIVERY CODES*/\n",
    "   IF DX(I) IN: ('Z37') THEN DELIVERY_V27 =1; "
   ]
  },
  {
   "cell_type": "code",
   "execution_count": null,
   "metadata": {},
   "outputs": [],
   "source": [
    "delivery_v27 = pd.read_sql(\n",
    "\"\"\"\n",
    "select record_id from discharge_diagnosis\n",
    "where code like 'Z37%%';\n",
    "\"\"\",con=engine\n",
    ").drop_duplicates(subset='record_id')\n",
    "\n",
    "delivery_v27['delivery_v27'] = 1\n",
    "delivery_v27.head()"
   ]
  },
  {
   "cell_type": "raw",
   "metadata": {
    "vscode": {
     "languageId": "raw"
    }
   },
   "source": [
    " ELSE IF DX(I) IN: ('O80','O82','O7582') THEN DO;\n",
    "    /*NORMAL DELIVERY*/\n",
    "    DELIVERY_650 =1;\n",
    "    /*C-SECTION DELIVERY*/\n",
    "    IF DX(I) IN: ('O82','O7582') THEN CESAREAN_DX=1;\n",
    " END;\n"
   ]
  },
  {
   "cell_type": "code",
   "execution_count": null,
   "metadata": {},
   "outputs": [],
   "source": [
    "# All of these codes are categorized as a \"normal delivery\"; some are c-sections\n",
    "normal_delivery = pd.read_sql(\n",
    "\"\"\"\n",
    "select record_id,code from discharge_diagnosis\n",
    "where code in ('O80','O82','O7582');\n",
    "\"\"\",con=engine\n",
    ").drop_duplicates()\n",
    "\n",
    "normal_delivery['present'] = 1\n",
    "normal_delivery = normal_delivery.pivot(\n",
    "    index='record_id',columns='code',values='present'\n",
    ").reset_index().fillna(False)\n",
    "\n",
    "normal_delivery['delivery_650'] = 1\n",
    "\n",
    "# identify c-sections\n",
    "normal_delivery['cesarean_dx'] = normal_delivery[['O82','O7582']].eq(1).any(axis=1)\n",
    "normal_delivery.cesarean_dx = normal_delivery.cesarean_dx.replace(True,1).replace(False,0)\n",
    "\n",
    "normal_delivery = normal_delivery.drop(['O80','O82','O7582'],axis=1)\n",
    "\n",
    "normal_delivery.head()"
   ]
  },
  {
   "cell_type": "raw",
   "metadata": {
    "vscode": {
     "languageId": "raw"
    }
   },
   "source": [
    "/*IDENTIFY ABORTIONS, ECTOPIC, HYDATIDIFORM MOLE FOR EXCLUSION*/\n",
    " IF DX(I) IN: ('O00','O01','O02','O03','O04','O07','O08')\n",
    " THEN ABORT_DX =1;"
   ]
  },
  {
   "cell_type": "code",
   "execution_count": null,
   "metadata": {},
   "outputs": [],
   "source": [
    "# These are the top-level codes but there are tons of \n",
    "# sub-codes so has to be a partial string search\n",
    "abortive_outcome = pd.read_sql(\n",
    "\"\"\"\n",
    "select record_id from discharge_diagnosis\n",
    "where code like any (array['O00%%','O01%%','O02%%','O03%%','O04%%','O07%%','O08%%']);\n",
    "\"\"\",con=engine\n",
    ").drop_duplicates(subset=\"record_id\")\n",
    "\n",
    "abortive_outcome['abort_dx'] = 1\n",
    "\n",
    "abortive_outcome.head()"
   ]
  },
  {
   "cell_type": "raw",
   "metadata": {
    "vscode": {
     "languageId": "raw"
    }
   },
   "source": [
    " /* BEGIN ICD-10-PCS PROCEDURES*/\n",
    "   /*ANY DELIVERY */\n",
    "   IF '10D00Z0' LE PR(I) LE: '10D00Z2' OR '10D07Z3' LE PR(I) LE: '10D07Z8'\n",
    "   OR PR(I) IN : ('10E0XZZ') THEN DO;\n",
    "\n",
    "   DELIVERY_PR =1;\n",
    "   /*C-SECTION DELIVERY*/\n",
    "   IF '10D00Z0' LE PR(I) LE: '10D00Z2' THEN CESAREAN_PR=1;\n"
   ]
  },
  {
   "cell_type": "code",
   "execution_count": null,
   "metadata": {},
   "outputs": [],
   "source": [
    "\n",
    "delivery_procedures = pd.read_sql(\"\"\"\n",
    "    select record_id,code from discharge_procedure\n",
    "        where (\n",
    "            (code >= '10D00Z0' and code <= '10D00Z2')\n",
    "            or\n",
    "            (code >= '10D07Z3' AND code <= '10D07Z8')\n",
    "            or\n",
    "            (code = '10E0XZZ')\n",
    "            )\n",
    "\"\"\",con=engine).drop_duplicates()\n",
    "\n",
    "delivery_procedures['present'] = 1\n",
    "delivery_procedures = delivery_procedures.pivot(\n",
    "    index=\"record_id\",columns='code',values=\"present\"\n",
    ").reset_index()\n",
    "delivery_procedures = delivery_procedures.fillna(0)\n",
    "delivery_procedures['delivery_pr'] = 1\n",
    "\n",
    "delivery_procedures['cesarean_pr'] = delivery_procedures[['10D00Z0','10D00Z1','10D00Z2']].eq(1).any(axis=1)\n",
    "delivery_procedures.cesarean_pr = delivery_procedures.cesarean_pr.replace(True,1).replace(False,0)\n",
    "\n",
    "delivery_procedures = delivery_procedures.drop([\n",
    "    '10D00Z0', '10D00Z1', '10D00Z2', '10D07Z3', '10D07Z4',\n",
    "    '10D07Z5', '10D07Z6', '10D07Z7', '10D07Z8', '10E0XZZ'\n",
    "],axis=1)\n",
    "\n",
    "delivery_procedures.head()"
   ]
  },
  {
   "cell_type": "raw",
   "metadata": {
    "vscode": {
     "languageId": "raw"
    }
   },
   "source": [
    " /* IDENTIFY ABORTIONS FOR EXCLUSION*/\n",
    " IF PR(I) IN: ('10A0') THEN ABORT_PR =1;"
   ]
  },
  {
   "cell_type": "code",
   "execution_count": null,
   "metadata": {},
   "outputs": [],
   "source": [
    "abortive_outcome_pr = pd.read_sql(\n",
    "\"\"\"\n",
    "select record_id from discharge_procedure\n",
    "where code like '10A0%%';\n",
    "\"\"\",con=engine\n",
    ").drop_duplicates(subset=\"record_id\")\n",
    "\n",
    "abortive_outcome_pr['abort_pr'] = 1\n",
    "\n",
    "abortive_outcome_pr.head()"
   ]
  },
  {
   "cell_type": "raw",
   "metadata": {
    "vscode": {
     "languageId": "raw"
    }
   },
   "source": [
    " /*BEGIN MS-DRG*/\n",
    "/* ANY DELIVERY*/\n",
    "IF DRG IN (765:768,774,775,783:788,796:798,805:807) THEN DELIVERY_DRG=1; ELSE\n",
    "DELIVERY_DRG=0;\n",
    "/* C-SECTION DELIVERY*/\n",
    "IF DRG IN (765,766,783:788) THEN CESAREAN_DRG=1;\n",
    "/*END MS-DRG*/"
   ]
  },
  {
   "cell_type": "code",
   "execution_count": null,
   "metadata": {},
   "outputs": [],
   "source": [
    "delivery_drg = pd.read_sql(\"\"\"\n",
    "    select record_id, frozen_ms_drg from discharge\n",
    "    where (\n",
    "    (frozen_ms_drg >= '765' and frozen_ms_drg <= '768')\n",
    "    or\n",
    "    (frozen_ms_drg in ('774','775'))\n",
    "    or\n",
    "    (frozen_ms_drg >= '783' and frozen_ms_drg <= '788')\n",
    "    or\n",
    "    (frozen_ms_drg >= '796' and frozen_ms_drg <= '798')\n",
    "    or\n",
    "    (frozen_ms_drg >= '805' and frozen_ms_drg <= '807')\n",
    "    )\n",
    "\"\"\",con=engine)\n",
    "\n",
    "# don't need to pivot this because each stay has only 1 drg value\n",
    "delivery_drg['delivery_drg'] = 1\n",
    "delivery_drg['cesarean_drg'] = np.where(\n",
    "    (\n",
    "        delivery_drg.frozen_ms_drg.isin([\n",
    "            '765','766',\n",
    "            '783','784','785','786','787','788'\n",
    ",            ])\n",
    "    ),1,0\n",
    ")\n",
    "delivery_drg = delivery_drg.drop(['frozen_ms_drg'],axis=1)\n",
    "\n",
    "delivery_drg.head()"
   ]
  },
  {
   "cell_type": "markdown",
   "metadata": {},
   "source": [
    "Combine all coded rows into one dataframe with all births and abortive outcomes"
   ]
  },
  {
   "cell_type": "code",
   "execution_count": null,
   "metadata": {},
   "outputs": [],
   "source": [
    "delivery = pd.merge(delivery_v27,normal_delivery,how=\"outer\",on=\"record_id\")\n",
    "delivery = pd.merge(delivery,delivery_procedures,how='outer',on=\"record_id\")\n",
    "delivery = pd.merge(delivery,delivery_drg,how=\"outer\",on='record_id')\n",
    "\n",
    "delivery = pd.merge(delivery,abortive_outcome,how=\"outer\",on=\"record_id\")\n",
    "delivery = pd.merge(delivery,abortive_outcome_pr,how='outer',on=\"record_id\")\n",
    "\n",
    "delivery = delivery.fillna(0)\n",
    "\n",
    "delivery_year = pd.read_sql(\"\"\"\n",
    "    select record_id, discharge,year\n",
    "        from discharge\n",
    "    where record_id in {0}\n",
    "\"\"\".format(tuple(delivery.record_id.unique())),con=engine)\n",
    "\n",
    "delivery = pd.merge(\n",
    "    delivery_year,delivery,\n",
    "    how=\"outer\",on=\"record_id\"\n",
    ")\n",
    "delivery.head()"
   ]
  },
  {
   "cell_type": "code",
   "execution_count": null,
   "metadata": {},
   "outputs": [],
   "source": [
    "# all abortive outcomes (i.e. ectopic, miscarriage, abortion)\n",
    "delivery['abort'] = np.where(\n",
    "    (delivery.abort_dx.eq(1)|delivery.abort_pr.eq(1)),\n",
    "    1,0\n",
    ")\n",
    "\n",
    "# all births\n",
    "delivery['birth'] = np.where(\n",
    "    (\n",
    "        (delivery.delivery_v27.eq(1)|delivery.delivery_650.eq(1)|\n",
    "        delivery.delivery_drg.eq(1)|delivery.delivery_pr.eq(1)|delivery.cesarean_dx.eq(1)) &\n",
    "        delivery.abort.eq(0)\n",
    "    ),1,0\n",
    ")\n",
    "\n",
    "# all cesarean codes\n",
    "delivery['cesarean'] = np.where(\n",
    "    (delivery.cesarean_dx.eq(1)|\\\n",
    "     delivery.cesarean_pr.eq(1)|\\\n",
    "     delivery.cesarean_drg.eq(1)),\n",
    "    1,0\n",
    ")\n",
    "\n",
    "delivery[delivery.birth.eq(1)].year.value_counts(sort=False)"
   ]
  },
  {
   "cell_type": "code",
   "execution_count": null,
   "metadata": {},
   "outputs": [],
   "source": [
    "# list record_ids so we can narrow our next queries\n",
    "# to just rows we've identified as pregnancy-ending hospitalizations.\n",
    "record_ids = delivery.record_id.unique()"
   ]
  },
  {
   "cell_type": "code",
   "execution_count": null,
   "metadata": {},
   "outputs": [],
   "source": [
    "# create col that is true for both births and abortive outcomes.\n",
    "# This is all hospitalizations with the end of a pregnancy\n",
    "delivery['pregnancy_end'] = 1"
   ]
  },
  {
   "cell_type": "code",
   "execution_count": null,
   "metadata": {},
   "outputs": [],
   "source": [
    "# clean up dataframe columns\n",
    "delivery = delivery.drop([\n",
    "    'delivery_v27','delivery_650','delivery_pr','delivery_drg',\n",
    "    'abort_dx','abort_pr','cesarean_dx','cesarean_pr','cesarean_drg'\n",
    "],axis=1)\n",
    "\n",
    "delivery.head()"
   ]
  },
  {
   "cell_type": "markdown",
   "metadata": {},
   "source": [
    "### Code SMM (HRSA algorithm)"
   ]
  },
  {
   "cell_type": "raw",
   "metadata": {
    "vscode": {
     "languageId": "raw"
    }
   },
   "source": [
    "/*SEVERE MATERNAL MORBIDITY INDICATORS*/\n",
    "\n",
    "/*ACUTE MYOCARDIAL INFARCTION*/\n",
    "IF DX(I) IN: ('I21','I22') THEN SMM1=1;"
   ]
  },
  {
   "cell_type": "code",
   "execution_count": null,
   "metadata": {},
   "outputs": [],
   "source": [
    "smm1 = pd.read_sql(\"\"\"\n",
    "    select record_id from discharge_diagnosis\n",
    "        where code like any (array['I21%%','I22%%'])\n",
    "            and record_id in {0};\n",
    "\"\"\".format(tuple(record_ids)),con=engine).drop_duplicates()\n",
    "\n",
    "smm1['smm1'] = 1"
   ]
  },
  {
   "cell_type": "raw",
   "metadata": {
    "vscode": {
     "languageId": "raw"
    }
   },
   "source": [
    "/*ANEURYSM*/\n",
    " IF DX(I) IN: ('I71','I790') THEN SMM2=1;"
   ]
  },
  {
   "cell_type": "code",
   "execution_count": null,
   "metadata": {},
   "outputs": [],
   "source": [
    "smm2 = pd.read_sql(\"\"\"\n",
    "    select record_id from discharge_diagnosis\n",
    "        where code like any (array['I71%%','I790%%'])\n",
    "            and record_id in {0};\n",
    "\"\"\".format(tuple(record_ids)),con=engine).drop_duplicates()\n",
    "\n",
    "smm2['smm2'] = 1"
   ]
  },
  {
   "cell_type": "raw",
   "metadata": {
    "vscode": {
     "languageId": "raw"
    }
   },
   "source": [
    " /* ACUTE RENAL FAILURE */\n",
    " IF DX(I) IN: ('N17','O904') THEN SMM3 =1;"
   ]
  },
  {
   "cell_type": "code",
   "execution_count": null,
   "metadata": {},
   "outputs": [],
   "source": [
    "smm3 = pd.read_sql(\"\"\"\n",
    "    select record_id from discharge_diagnosis\n",
    "        where code like any (array['N17%%','O904%%'])\n",
    "            and record_id in {0};\n",
    "\"\"\".format(tuple(record_ids)),con=engine).drop_duplicates()\n",
    "\n",
    "smm3['smm3'] = 1"
   ]
  },
  {
   "cell_type": "raw",
   "metadata": {
    "vscode": {
     "languageId": "raw"
    }
   },
   "source": [
    "/*ACUTE RESP DISTRESS SYNDROME*/\n",
    "IF DX(I) IN: ('J80','J951','J952','J953','J9582','J960',\n",
    "'J962','J969','R0603','R092') THEN SMM4=1;"
   ]
  },
  {
   "cell_type": "code",
   "execution_count": null,
   "metadata": {},
   "outputs": [],
   "source": [
    "smm4 = pd.read_sql(\"\"\"\n",
    "    select record_id from discharge_diagnosis\n",
    "        where code like any (array[\n",
    "        'J80%%','J951%%','J952%%','J953%%','J9582%%','J960%%',\n",
    "        'J962%%','J969%%','R0603%%','R092%%'\n",
    "])\n",
    "            and record_id in {0};\n",
    "\"\"\".format(tuple(record_ids)),con=engine).drop_duplicates()\n",
    "\n",
    "smm4['smm4'] = 1"
   ]
  },
  {
   "cell_type": "raw",
   "metadata": {
    "vscode": {
     "languageId": "raw"
    }
   },
   "source": [
    " /*AMNIOTIC FLUID EMBOLISM */\n",
    " IF DX(I) IN: ('O88112','O88113','O88119','O8812','O8813') THEN SMM5=1;"
   ]
  },
  {
   "cell_type": "code",
   "execution_count": null,
   "metadata": {},
   "outputs": [],
   "source": [
    "smm5 = pd.read_sql(\"\"\"\n",
    "    select record_id from discharge_diagnosis\n",
    "        where code like any (array[\n",
    "        'O88112%%','O88113%%','O88119%%','O8812%%','O8813%%'\n",
    "])\n",
    "            and record_id in {0};\n",
    "\"\"\".format(tuple(record_ids)),con=engine).drop_duplicates()\n",
    "\n",
    "smm5['smm5'] = 1"
   ]
  },
  {
   "cell_type": "raw",
   "metadata": {
    "vscode": {
     "languageId": "raw"
    }
   },
   "source": [
    "/*CARDIAC ARREST/VENTRICULAR FIBRILLATION*/\n",
    "IF DX(I) IN: ('I46','I490') THEN SMM6=1;"
   ]
  },
  {
   "cell_type": "code",
   "execution_count": null,
   "metadata": {},
   "outputs": [],
   "source": [
    "smm6 = pd.read_sql(\"\"\"\n",
    "    select record_id from discharge_diagnosis\n",
    "        where code like any (array[\n",
    "        'I46%%','I490%%'\n",
    "])\n",
    "            and record_id in {0};\n",
    "\"\"\".format(tuple(record_ids)),con=engine).drop_duplicates()\n",
    "\n",
    "smm6['smm6'] = 1"
   ]
  },
  {
   "cell_type": "raw",
   "metadata": {
    "vscode": {
     "languageId": "raw"
    }
   },
   "source": [
    " /*DISSEMINATED INTRAVASCULAR COAGULATION*/\n",
    "IF DX(I) IN: ('D65','D688','D689','O45002','O45003','O45009','O45012','O45013',\n",
    "'O45019','O45022','O45023','O45029','O45092','O45093','O45099','O46002',\n",
    "'O46003','O46009','O46012','O46013','O46019','O46022','O46023','O46029',\n",
    "'O46092','O46093','O46099','O670','O723') THEN SMM8=1;"
   ]
  },
  {
   "cell_type": "code",
   "execution_count": null,
   "metadata": {},
   "outputs": [],
   "source": [
    "smm8 = pd.read_sql(\"\"\"\n",
    "    select record_id from discharge_diagnosis\n",
    "        where code like any (array[\n",
    "        'D65%%','D688%%','D689%%',\n",
    "        'O45002%%','O45003%%','O45009%%',\n",
    "        'O45012%%','O45013%%','O45019%%',\n",
    "        'O45022%%','O45023%%','O45029%%',\n",
    "        'O45092%%','O45093%%','O45099%%',\n",
    "        'O46002%%','O46003%%','O46009%%',\n",
    "        'O46012%%','O46013%%','O46019%%',\n",
    "        'O46022%%','O46023%%','O46029%%',\n",
    "        'O46092%%','O46093%%','O46099%%',\n",
    "        'O670%%','O723%%'\n",
    "])\n",
    "            and record_id in {0};\n",
    "\"\"\".format(tuple(record_ids)),con=engine).drop_duplicates()\n",
    "\n",
    "smm8['smm8'] = 1"
   ]
  },
  {
   "cell_type": "raw",
   "metadata": {
    "vscode": {
     "languageId": "raw"
    }
   },
   "source": [
    " /* ECLAMPSIA */\n",
    "IF DX(I) IN: ('O15') THEN SMM9 =1;"
   ]
  },
  {
   "cell_type": "code",
   "execution_count": null,
   "metadata": {},
   "outputs": [],
   "source": [
    "smm9 = pd.read_sql(\"\"\"\n",
    "    select record_id from discharge_diagnosis\n",
    "        where code like any (array[\n",
    "        'O15%%'\n",
    "])\n",
    "            and record_id in {0};\n",
    "\"\"\".format(tuple(record_ids)),con=engine).drop_duplicates()\n",
    "\n",
    "smm9['smm9'] = 1"
   ]
  },
  {
   "cell_type": "raw",
   "metadata": {
    "vscode": {
     "languageId": "raw"
    }
   },
   "source": [
    " /* HEART FAILURE/ARREST DURING PROCEDURE*/\n",
    "IF DX(I) IN: ('I9712','I9713','I9771') THEN SMM10=1;"
   ]
  },
  {
   "cell_type": "code",
   "execution_count": null,
   "metadata": {},
   "outputs": [],
   "source": [
    "smm10 = pd.read_sql(\"\"\"\n",
    "    select record_id from discharge_diagnosis\n",
    "        where code like any (array[\n",
    "        'I9712%%','I9713%%','I9771%%'\n",
    "])\n",
    "            and record_id in {0};\n",
    "\"\"\".format(tuple(record_ids)),con=engine).drop_duplicates()\n",
    "\n",
    "smm10['smm10'] = 1"
   ]
  },
  {
   "cell_type": "raw",
   "metadata": {
    "vscode": {
     "languageId": "raw"
    }
   },
   "source": [
    " /* PUERPERAL CEREBROVASCULAR DISORDERS*/\n",
    "IF DX(I) IN: ('A812','G45','G46','G9349','H340','I60','I61','I62','I6300',\n",
    "'I6301','I631', 'I632','I633','I634','I635','I636','I638','I639','I65','I66',\n",
    "'I67','I68','O2250','O2252','O2253','I9781','I9782','O873') THEN SMM11=1;"
   ]
  },
  {
   "cell_type": "code",
   "execution_count": null,
   "metadata": {},
   "outputs": [],
   "source": [
    "smm11 = pd.read_sql(\"\"\"\n",
    "    select record_id from discharge_diagnosis\n",
    "        where code like any (array[\n",
    "            'A812%%','G45%%','G46%%','G9349%%','H340%%','I60%%','I61%%','I62%%',\n",
    "            'I6300%%',\n",
    "            'I6301%%','I631%%', 'I632%%','I633%%','I634%%','I635%%','I636%%','I638%%',\n",
    "            'I639%%','I65%%','I66%%','I67%%','I68%%','O2250%%','O2252%%','O2253%%',\n",
    "            'I9781%%','I9782%%','O873%%'\n",
    "])\n",
    "            and record_id in {0};\n",
    "\"\"\".format(tuple(record_ids)),con=engine).drop_duplicates()\n",
    "\n",
    "smm11['smm11'] = 1"
   ]
  },
  {
   "cell_type": "raw",
   "metadata": {
    "vscode": {
     "languageId": "raw"
    }
   },
   "source": [
    "/*PULMONARY EDEMA*/\n",
    "IF DX(I) IN: ('J810') THEN SMM12=1;"
   ]
  },
  {
   "cell_type": "code",
   "execution_count": null,
   "metadata": {},
   "outputs": [],
   "source": [
    "# NOTE: SMM12 is repeated for acute heart failure!\n",
    "# I'm creating a separate variable so that we don't risk aggregating improperly\n",
    "\n",
    "smm12a = pd.read_sql(\"\"\"\n",
    "    select record_id from discharge_diagnosis\n",
    "        where code like any (array[\n",
    "        'J810%%'\n",
    "])\n",
    "            and record_id in {0};\n",
    "\"\"\".format(tuple(record_ids)),con=engine).drop_duplicates()\n",
    "\n",
    "smm12a['smm12a'] = 1"
   ]
  },
  {
   "cell_type": "raw",
   "metadata": {
    "vscode": {
     "languageId": "raw"
    }
   },
   "source": [
    "/*ACUTE HEART FAILURE*/\n",
    "IF DX(I) IN: ('I501','I5020','I5021','I5023','I5030','I5031','I5033',\n",
    "'I5040','I5041','I5043','I50810','I50811','I50813','I50814',\n",
    "'I5082','I5083','I5084','I5089','I509') THEN SMM12=1;"
   ]
  },
  {
   "cell_type": "code",
   "execution_count": null,
   "metadata": {},
   "outputs": [],
   "source": [
    "smm12 = pd.read_sql(\"\"\"\n",
    "    select record_id from discharge_diagnosis\n",
    "        where code like any (array[\n",
    "        'I501%%','I5020%%','I5021%%','I5023%%','I5030%%','I5031%%','I5033%%',\n",
    "        'I5040%%','I5041%%','I5043%%','I50810%%','I50811%%','I50813%%','I50814%%',\n",
    "        'I5082%%','I5083%%','I5084%%','I5089%%','I509%%'\n",
    "])\n",
    "            and record_id in {0};\n",
    "\"\"\".format(tuple(record_ids)),con=engine).drop_duplicates()\n",
    "\n",
    "smm12['smm12'] = 1"
   ]
  },
  {
   "cell_type": "raw",
   "metadata": {
    "vscode": {
     "languageId": "raw"
    }
   },
   "source": [
    " /*SEVERE ANESTHESIA COMPLICATIONS */\n",
    " IF DX(I) IN: ('O29112','O29113','O29119','O29122','O29123','O29129','O29192',\n",
    " 'O29193','O29199','O29212','O29213','O29219','O29292','O29293','O29299',\n",
    " 'O740','O741','O742','O743','O8901','O8909','O891','O892','T882XXA','T883XXA')\n",
    " THEN SMM13=1;"
   ]
  },
  {
   "cell_type": "code",
   "execution_count": null,
   "metadata": {},
   "outputs": [],
   "source": [
    "smm13 = pd.read_sql(\"\"\"\n",
    "    select record_id from discharge_diagnosis\n",
    "        where code like any (array[\n",
    "        'O29112%%','O29113%%','O29119%%',\n",
    "        'O29122%%','O29123%%','O29129%%',\n",
    "        'O29192%%','O29193%%','O29199%%',\n",
    "        'O29212%%','O29213%%','O29219%%',\n",
    "        'O29292%%','O29293%%','O29299%%',\n",
    "        'O740%%','O741%%','O742%%','O743%%',\n",
    "        'O8901%%','O8909%%',\n",
    "        'O891%%','O892%%',\n",
    "        'T882XXA%%','T883XXA%%'\n",
    "])\n",
    "            and record_id in {0};\n",
    "\"\"\".format(tuple(record_ids)),con=engine).drop_duplicates()\n",
    "\n",
    "smm13['smm13'] = 1"
   ]
  },
  {
   "cell_type": "raw",
   "metadata": {
    "vscode": {
     "languageId": "raw"
    }
   },
   "source": [
    "/*SEPSIS*/\n",
    "IF DX(I) IN: ('A327','A40','A41','I76','O85','O8604','R6520','R6521',\n",
    "'T8112XA','T8144XA') THEN SMM14=1;"
   ]
  },
  {
   "cell_type": "code",
   "execution_count": null,
   "metadata": {},
   "outputs": [],
   "source": [
    "smm14 = pd.read_sql(\"\"\"\n",
    "    select record_id from discharge_diagnosis\n",
    "        where code like any (array[\n",
    "        'A327%%','A40%%','A41%%','I76%%','O85%%',\n",
    "        'O8604%%','R6520%%','R6521%%',\n",
    "        'T8112XA%%','T8144XA%%'\n",
    "])\n",
    "            and record_id in {0};\n",
    "\"\"\".format(tuple(record_ids)),con=engine).drop_duplicates()\n",
    "\n",
    "smm14['smm14'] = 1"
   ]
  },
  {
   "cell_type": "raw",
   "metadata": {
    "vscode": {
     "languageId": "raw"
    }
   },
   "source": [
    "/*SHOCK*/\n",
    "IF DX(I) IN: ('O751','R57','T782XXA','T8110XA','T8111XA','T8119XA','T886XXA')\n",
    "THEN SMM15=1;"
   ]
  },
  {
   "cell_type": "code",
   "execution_count": null,
   "metadata": {},
   "outputs": [],
   "source": [
    "smm15 = pd.read_sql(\"\"\"\n",
    "    select record_id from discharge_diagnosis\n",
    "        where code like any (array[\n",
    "        'O751%%','R57%%',\n",
    "        'T782XXA%%','T8110XA%%','T8111XA%%','T8119XA%%','T886XXA%%'\n",
    "])\n",
    "            and record_id in {0};\n",
    "\"\"\".format(tuple(record_ids)),con=engine).drop_duplicates()\n",
    "\n",
    "smm15['smm15'] = 1"
   ]
  },
  {
   "cell_type": "raw",
   "metadata": {
    "vscode": {
     "languageId": "raw"
    }
   },
   "source": [
    "/*SICKLE CELL DISEASE WITH CRISIS*/\n",
    "IF DX(I) IN: ('D5700','D5701','D5702','D57211','D57212','D57219','D57411',\n",
    "'D57412','D57419','D57811','D57812','D57819') THEN SMM16=1;"
   ]
  },
  {
   "cell_type": "code",
   "execution_count": null,
   "metadata": {},
   "outputs": [],
   "source": [
    "smm16 = pd.read_sql(\"\"\"\n",
    "    select record_id from discharge_diagnosis\n",
    "        where code like any (array[\n",
    "        'D5700%%','D5701%%','D5702%%',\n",
    "        'D57211%%','D57212%%','D57219%%',\n",
    "        'D57411%%','D57412%%','D57419%%',\n",
    "        'D57811%%','D57812%%','D57819%%'\n",
    "])\n",
    "            and record_id in {0};\n",
    "\"\"\".format(tuple(record_ids)),con=engine).drop_duplicates()\n",
    "\n",
    "smm16['smm16'] = 1"
   ]
  },
  {
   "cell_type": "raw",
   "metadata": {
    "vscode": {
     "languageId": "raw"
    }
   },
   "source": [
    "# /*AIR AND THROMBOTIC EMBOLISM */\n",
    "# IF DX(I) IN: ('I2601','I2602','I2609','I2690','I2692','I2693','I2694','I2699',\n",
    "# 'O88012','O88013','O88019','O8802','O8803','O88212','O88213','O88219',\n",
    "# 'O8822','O8823','O88312','O88313','O88319','O8832','O8833','O88812','O88813',\n",
    "# 'O88819','O8882','O8883','T800XXA')\n",
    "# THEN SMM17=1; "
   ]
  },
  {
   "cell_type": "code",
   "execution_count": null,
   "metadata": {},
   "outputs": [],
   "source": [
    "smm17 = pd.read_sql(\"\"\"\n",
    "    select record_id from discharge_diagnosis\n",
    "        where code like any (array[\n",
    "        'I2601%%','I2602%%','I2609%%',\n",
    "        'I2690%%','I2692%%','I2693%%','I2694%%','I2699%%',\n",
    "        'O88012%%','O88013%%','O88019%%',\n",
    "        'O8802%%','O8803%%',\n",
    "        'O88212%%','O88213%%','O88219%%',\n",
    "        'O8822%%','O8823%%',\n",
    "        'O88312%%','O88313%%','O88319%%',\n",
    "        'O8832%%','O8833%%',\n",
    "        'O88812%%','O88813%%','O88819%%',\n",
    "        'O8882%%','O8883%%',\n",
    "        'T800XXA%%'\n",
    "])\n",
    "            and record_id in {0};\n",
    "\"\"\".format(tuple(record_ids)),con=engine).drop_duplicates()\n",
    "\n",
    "smm17['smm17'] = 1"
   ]
  },
  {
   "cell_type": "raw",
   "metadata": {
    "vscode": {
     "languageId": "raw"
    }
   },
   "source": [
    "/* BEGIN ICD-10-PCS PROCEDURES*/\n",
    "\n",
    "/*CONVERSION OF CARDIAC RHYTHM */\n",
    "IF PR(I) IN: ('5A12012','5A2204Z') THEN SMM7=1;"
   ]
  },
  {
   "cell_type": "code",
   "execution_count": null,
   "metadata": {},
   "outputs": [],
   "source": [
    "smm7 = pd.read_sql(\"\"\"\n",
    "    select record_id from discharge_procedure\n",
    "    where code like any (array[\n",
    "    '5A12012%%','5A2204Z%%'\n",
    "    ])\n",
    "        and record_id in {0};\n",
    "\"\"\".format(tuple(record_ids)),con=engine).drop_duplicates()\n",
    "\n",
    "smm7['smm7'] = 1"
   ]
  },
  {
   "cell_type": "markdown",
   "metadata": {},
   "source": [
    "Note on smm18, blood transfusions - the SAS code has ICD9 but no ICD10 definition for this. [CDC](https://www.cdc.gov/maternal-infant-health/php/severe-maternal-morbidity/icd.html) has a list of ICD-10 codes for transfusion, but we're not using it for this analysis."
   ]
  },
  {
   "cell_type": "raw",
   "metadata": {
    "vscode": {
     "languageId": "raw"
    }
   },
   "source": [
    "/*HYSTERECTOMY*/\n",
    " IF PR(I) IN: ('0UT90ZL','0UT90ZZ','0UT97ZL','0UT97ZZ') THEN SMM19=1;"
   ]
  },
  {
   "cell_type": "code",
   "execution_count": null,
   "metadata": {},
   "outputs": [],
   "source": [
    "smm19 = pd.read_sql(\"\"\"\n",
    "    select record_id from discharge_procedure\n",
    "        where code like any (array[\n",
    "        '0UT90ZL%%','0UT90ZZ%%','0UT97ZL%%','0UT97ZZ%%'\n",
    "])\n",
    "            and record_id in {0};\n",
    "\"\"\".format(tuple(record_ids)),con=engine).drop_duplicates()\n",
    "\n",
    "smm19['smm19'] = 1"
   ]
  },
  {
   "cell_type": "raw",
   "metadata": {
    "vscode": {
     "languageId": "raw"
    }
   },
   "source": [
    "/*TEMPORARY TRACHEOSTOMY*/\n",
    "IF PR(I) IN: ('0B110F4','0B113F4','0B114F4') THEN SMM20=1;"
   ]
  },
  {
   "cell_type": "code",
   "execution_count": null,
   "metadata": {},
   "outputs": [],
   "source": [
    "smm20 = pd.read_sql(\"\"\"\n",
    "    select record_id from discharge_procedure\n",
    "        where code like any (array[\n",
    "    '0B110F4%%','0B113F4%%','0B114F4%%'\n",
    "])\n",
    "            and record_id in {0};\n",
    "\"\"\".format(tuple(record_ids)),con=engine).drop_duplicates()\n",
    "\n",
    "smm20['smm20'] = 1"
   ]
  },
  {
   "cell_type": "raw",
   "metadata": {
    "vscode": {
     "languageId": "raw"
    }
   },
   "source": [
    "/*VENTILATION*/\n",
    "IF PR(I) IN: ('5A1935Z', '5A1945Z', '5A1955Z') THEN SMM21=1;"
   ]
  },
  {
   "cell_type": "code",
   "execution_count": null,
   "metadata": {},
   "outputs": [],
   "source": [
    "smm21 = pd.read_sql(\"\"\"\n",
    "    select record_id from discharge_procedure\n",
    "        where code like any (array[\n",
    "        '5A1935Z%%', '5A1945Z%%', '5A1955Z%%'\n",
    "])\n",
    "            and record_id in {0};\n",
    "\"\"\".format(tuple(record_ids)),con=engine).drop_duplicates()\n",
    "\n",
    "smm21['smm21'] = 1\n"
   ]
  },
  {
   "cell_type": "raw",
   "metadata": {
    "vscode": {
     "languageId": "raw"
    }
   },
   "source": [
    "END;\n",
    "/* END OF ICD-10-PCS PROCEDURES*/"
   ]
  },
  {
   "cell_type": "markdown",
   "metadata": {},
   "source": [
    "Join all the SMM columns"
   ]
  },
  {
   "cell_type": "code",
   "execution_count": null,
   "metadata": {},
   "outputs": [],
   "source": [
    "smm = pd.merge(smm1,smm2,how=\"outer\",on=\"record_id\")\n",
    "smm = pd.merge(smm,smm3,how=\"outer\",on=\"record_id\")\n",
    "smm = pd.merge(smm,smm4,how=\"outer\",on=\"record_id\")\n",
    "smm = pd.merge(smm,smm5,how=\"outer\",on=\"record_id\")\n",
    "smm = pd.merge(smm,smm6,how=\"outer\",on=\"record_id\")\n",
    "smm = pd.merge(smm,smm7,how=\"outer\",on=\"record_id\")\n",
    "smm = pd.merge(smm,smm8,how=\"outer\",on=\"record_id\")\n",
    "smm = pd.merge(smm,smm9,how=\"outer\",on=\"record_id\")\n",
    "smm = pd.merge(smm,smm10,how=\"outer\",on=\"record_id\")\n",
    "smm = pd.merge(smm,smm11,how=\"outer\",on=\"record_id\")\n",
    "smm = pd.merge(smm,smm12a,how=\"outer\",on=\"record_id\")\n",
    "smm = pd.merge(smm,smm12,how=\"outer\",on=\"record_id\")\n",
    "smm = pd.merge(smm,smm13,how=\"outer\",on=\"record_id\")\n",
    "smm = pd.merge(smm,smm14,how=\"outer\",on=\"record_id\")\n",
    "smm = pd.merge(smm,smm15,how=\"outer\",on=\"record_id\")\n",
    "smm = pd.merge(smm,smm16,how=\"outer\",on=\"record_id\")\n",
    "smm = pd.merge(smm,smm17,how=\"outer\",on=\"record_id\")\n",
    "smm = pd.merge(smm,smm19,how=\"outer\",on=\"record_id\")\n",
    "smm = pd.merge(smm,smm20,how=\"outer\",on=\"record_id\")\n",
    "smm = pd.merge(smm,smm21,how=\"outer\",on=\"record_id\")\n",
    "\n",
    "smm = smm.fillna(0)\n",
    "# if any smm types are true, then this variable is true\n",
    "smm['smm'] = 1\n",
    "# move the general smm variable to the beginning of the df\n",
    "smm.insert(1,'smm',smm.pop('smm'))"
   ]
  },
  {
   "cell_type": "markdown",
   "metadata": {},
   "source": [
    "Group the SMM columns"
   ]
  },
  {
   "cell_type": "raw",
   "metadata": {
    "vscode": {
     "languageId": "raw"
    }
   },
   "source": [
    "\n",
    "/* Complication Grouping */\n",
    "* Hemmorhage = DIC, Shock, Hysterectomy;\n",
    "IF SMM8=1 OR SMM15=1 OR SMM19=1 then SMM_GROUP1=1; ELSE SMM_GROUP1=0;\n",
    "\n",
    "* Respiratory = Acute Respiratory Distress Syndrome, Temporary Tracheostomy,\n",
    "Ventilation;\n",
    "IF SMM4=1 OR SMM20=1 OR SMM21=1 then SMM_GROUP2=1; ELSE SMM_GROUP2=0;\n",
    "\n",
    "\n",
    "* Cardiac = Acute Myocardial Infarction, Aneurysm, Cardiac Arrest, Conversion of\n",
    "Cardiac Rhythm, Heart Failure Arrest During Surgery, Acute Heart Failure, Pulmonary\n",
    "Edema;\n",
    "IF SMM1=1 OR SMM2=1 OR SMM6=1 OR SMM7=1 OR SMM10=1 OR SMM12=1 then SMM_GROUP3=1;\n",
    "ELSE SMM_GROUP3=0;\n",
    "NOTE: ADD SMM12A BECAUSE I CREATED A NEW VAR FOR PULMONARY EDEMA\n",
    "\n",
    "* Renal = Acute Renal Failure;\n",
    "IF SMM3=1 then SMM_GROUP4=1; ELSE SMM_GROUP4=0;\n",
    "\n",
    "* Sepsis;\n",
    "IF SMM14=1 then SMM_GROUP5=1; ELSE SMM_GROUP5=0;\n",
    "\n",
    "* Other obstetrical = Amniotic Fluid Embolism, Eclampsia, Severe Anesthesia\n",
    "Complication, Air & Thrombotic Embolism;\n",
    "IF SMM5=1 OR SMM9=1 OR SMM13=1 OR SMM17=1 then SMM_GROUP6=1; ELSE SMM_GROUP6=0;\n",
    "\n",
    "* Other medical = Puerperal Cerebrovascular Disorder, Sickle Cell Disease with\n",
    "Crisis;\n",
    "IF SMM11=1 OR SMM16=1 then SMM_GROUP7=1; ELSE SMM_GROUP7=0;\n",
    "END; \n",
    "\n",
    "LABEL \n",
    "SMM=”SEVERE MATERNAL MORBIDITY” \n",
    "SMM_GROUP1=”Hemmorhage Complications” \n",
    "SMM_GROUP2=”Respiratory Complications” \n",
    "SMM_GROUP3=”Cardiac Complications” \n",
    "SMM_GROUP4=”Renal Complications” \n",
    "SMM_GROUP5=”Sepsis Complications” \n",
    "SMM_GROUP6=”Other Obstetric Complications” \n",
    "SMM_GROUP7=”Other Medical Complications”"
   ]
  },
  {
   "cell_type": "code",
   "execution_count": null,
   "metadata": {},
   "outputs": [],
   "source": [
    "smm['smm_hemorrhage'] = np.where(\n",
    "    (smm.smm8.eq(1)|smm.smm15.eq(1)|smm.smm19.eq(1)),\n",
    "    1,0\n",
    ")\n",
    "\n",
    "smm['smm_respiratory'] = np.where(\n",
    "    (smm.smm4.eq(1)|smm.smm20.eq(1)|smm.smm21.eq(1)),\n",
    "    1,0\n",
    ")\n",
    "\n",
    "smm['smm_cardiac'] = np.where(\n",
    "    (smm.smm1.eq(1)|smm.smm2.eq(1)|smm.smm6.eq(1)|smm.smm7.eq(1)|smm.smm10.eq(1)|smm.smm12.eq(1)|smm.smm12a.eq(1)),\n",
    "    1,0\n",
    ")\n",
    "\n",
    "smm['smm_renal'] = np.where(\n",
    "    (smm.smm3.eq(1)),\n",
    "    1,0\n",
    ")\n",
    "\n",
    "smm['smm_sepsis'] = np.where(\n",
    "    (smm.smm14.eq(1)),\n",
    "    1,0\n",
    ")\n",
    "\n",
    "smm['smm_hysterectomy'] = np.where(\n",
    "    (smm.smm19.eq(1)),\n",
    "    1,0\n",
    ")\n",
    "\n",
    "smm['smm_other_obstetric'] = np.where(\n",
    "    (smm.smm5.eq(1)|smm.smm9.eq(1)|smm.smm13.eq(1)|smm.smm17.eq(1)),\n",
    "    1,0\n",
    ")\n",
    "\n",
    "smm['smm_other_medical'] = np.where(\n",
    "    (smm.smm11.eq(1)|smm.smm16.eq(1)),\n",
    "    1,0\n",
    ")\n",
    "\n",
    "smm = smm.fillna(0)"
   ]
  },
  {
   "cell_type": "code",
   "execution_count": null,
   "metadata": {},
   "outputs": [],
   "source": [
    "delivery_smm = pd.merge(delivery,smm,on=\"record_id\",how=\"left\")\n",
    "delivery_smm = delivery_smm.fillna(0)\n",
    "delivery_smm.head()"
   ]
  },
  {
   "cell_type": "code",
   "execution_count": null,
   "metadata": {},
   "outputs": [],
   "source": [
    "# drop smm interstitial columns\n",
    "delivery_smm = delivery_smm.drop([ 'smm1',\n",
    "       'smm2', 'smm3', 'smm4', 'smm5', 'smm6', 'smm7', 'smm8', 'smm9', 'smm10',\n",
    "       'smm11', 'smm12a', 'smm12', 'smm13', 'smm14', 'smm15', 'smm16', 'smm17',\n",
    "       'smm19', 'smm20', 'smm21'\n",
    "       ],axis=1)"
   ]
  },
  {
   "cell_type": "markdown",
   "metadata": {},
   "source": [
    "### Age/gender filter (HRSA algorithm)\n",
    "Identify rows with female patients with ages between 10 and 54."
   ]
  },
  {
   "cell_type": "code",
   "execution_count": null,
   "metadata": {},
   "outputs": [],
   "source": [
    "demographics = pd.read_sql(\n",
    "\"\"\"\n",
    "select record_id, pat_age, sex_code from discharge where record_id in {0}\n",
    "\"\"\".format(tuple(record_ids)),con=engine\n",
    ")"
   ]
  },
  {
   "cell_type": "code",
   "execution_count": null,
   "metadata": {},
   "outputs": [],
   "source": [
    "delivery_female_age = demographics.copy()[demographics.sex_code.eq(\"F\") & demographics.pat_age.isin([\n",
    "    '04','05','06','07','08','09','10','11','12','13'    \n",
    "])]\n",
    "\n",
    "print(\"Unfiltered length:\")\n",
    "print(len(demographics))\n",
    "print(\"Filtered length:\")\n",
    "print(len(delivery_female_age))"
   ]
  },
  {
   "cell_type": "code",
   "execution_count": null,
   "metadata": {},
   "outputs": [],
   "source": [
    "delivery_female_age = delivery_female_age[['record_id']]\n",
    "delivery_female_age['age_gender_filter'] = 1\n",
    "\n",
    "delivery_smm.drop('age_gender_filter',axis=1,inplace=True,errors=\"ignore\")\n",
    "delivery_smm = pd.merge(delivery_smm,delivery_female_age,on=\"record_id\",how=\"left\")\n",
    "delivery_smm.age_gender_filter = delivery_smm.age_gender_filter.fillna(0)"
   ]
  },
  {
   "cell_type": "code",
   "execution_count": null,
   "metadata": {},
   "outputs": [],
   "source": [
    "delivery_smm.head()"
   ]
  },
  {
   "cell_type": "markdown",
   "metadata": {},
   "source": [
    "### Weeks gestation\n",
    "\n",
    "We query all weeks gestation codes, then translate those to an integer. To account for long hospitalizations with multiple gestational week codes, we drop all but the highest week code for each hospitalization to indicate the gestational week at the time the pregnancy ended."
   ]
  },
  {
   "cell_type": "code",
   "execution_count": null,
   "metadata": {},
   "outputs": [],
   "source": [
    "weeks_gestation = pd.read_sql(\"\"\"\n",
    "        select record_id, code from discharge_diagnosis\n",
    "            where code like 'Z3A%%' and record_id in {0}\n",
    "    \"\"\".format(tuple(record_ids)),con=engine)\n",
    "weeks_gestation['weeks_gestation'] = weeks_gestation.code.str.replace(\"Z3A\",\"\")\n",
    "# exclude gestational week unknown\n",
    "weeks_gestation = weeks_gestation[~weeks_gestation.weeks_gestation.eq(\"00\")]\n",
    "weeks_gestation.weeks_gestation = weeks_gestation.weeks_gestation.astype(int)\n",
    "\n",
    "weeks_gestation = weeks_gestation[['record_id','weeks_gestation']].sort_values(\"weeks_gestation\").drop_duplicates(subset='record_id',keep='last')"
   ]
  },
  {
   "cell_type": "code",
   "execution_count": null,
   "metadata": {},
   "outputs": [],
   "source": [
    "delivery_smm = pd.merge(delivery_smm,weeks_gestation[['record_id','weeks_gestation']],on=\"record_id\",how=\"left\")\n",
    "\n",
    "delivery_smm.head()"
   ]
  },
  {
   "cell_type": "markdown",
   "metadata": {},
   "source": [
    "### Abortive outcomes and complications\n",
    "These diagnoses are related to \"abortive outcomes\", i.e. miscarriage and abortion events"
   ]
  },
  {
   "cell_type": "code",
   "execution_count": null,
   "metadata": {},
   "outputs": [],
   "source": [
    "abortive = pd.read_sql(\"\"\"\n",
    "        select record_id,code,present_on_admission from discharge_diagnosis\n",
    "                where record_id in {0}\n",
    "                and code like any (array['O00%%','O01%%','O02%%','O03%%','O04%%','O07%%','O08%%']);\n",
    "    \"\"\".format(tuple(delivery_smm.record_id)),con=engine).drop_duplicates()"
   ]
  },
  {
   "cell_type": "markdown",
   "metadata": {},
   "source": [
    "Identify abortive sepsis codes"
   ]
  },
  {
   "cell_type": "code",
   "execution_count": null,
   "metadata": {},
   "outputs": [],
   "source": [
    "abortive_sepsis = abortive.copy()[abortive.code.str.startswith(('O0337','O0387','O0487','O0737','O0882'))][['record_id']].drop_duplicates()\n",
    "abortive_sepsis['abortive_sepsis'] = 1\n",
    "\n",
    "abortive_sepsis.head()"
   ]
  },
  {
   "cell_type": "code",
   "execution_count": null,
   "metadata": {},
   "outputs": [],
   "source": [
    "delivery_smm = pd.merge(delivery_smm,abortive_sepsis,on=\"record_id\",how=\"left\")\n",
    "delivery_smm = pd.merge(delivery_smm,missed_abortion,on=\"record_id\",how=\"left\")\n",
    "delivery_smm = pd.merge(delivery_smm,missed_abortion_admission,on=\"record_id\",how=\"left\")\n",
    "delivery_smm.abortive_sepsis = delivery_smm.abortive_sepsis.fillna(0)\n",
    "delivery_smm.missed_abortion = delivery_smm.missed_abortion.fillna(0)\n",
    "delivery_smm.missed_abortion_admission = delivery_smm.missed_abortion_admission.fillna(0)\n",
    "delivery_smm.head()"
   ]
  },
  {
   "cell_type": "markdown",
   "metadata": {},
   "source": [
    "Define composite sepsis column, which includes SMM sepsis and abortive sepsis."
   ]
  },
  {
   "cell_type": "code",
   "execution_count": null,
   "metadata": {},
   "outputs": [],
   "source": [
    "delivery_smm.loc[(delivery_smm.smm_sepsis.eq(1)|delivery_smm.abortive_sepsis.eq(1)),'sepsis_combined'] = 1\n",
    "delivery_smm.sepsis_combined = delivery_smm.sepsis_combined.fillna(0)\n",
    "\n",
    "delivery_smm.head()"
   ]
  },
  {
   "cell_type": "markdown",
   "metadata": {},
   "source": [
    "### Missed abortion\n",
    "Indicates fetal death in utero before 20 weeks"
   ]
  },
  {
   "cell_type": "code",
   "execution_count": null,
   "metadata": {},
   "outputs": [],
   "source": [
    "# identify all rows with a missed abortion code\n",
    "missed_abortion = abortive.copy()[abortive.code.eq('O021')]\n",
    "missed_abortion = missed_abortion[['record_id']].drop_duplicates()\n",
    "missed_abortion['missed_abortion'] = 1\n",
    "\n",
    "# for missed abortion codes, identify ones marked \"present on admission\"\n",
    "missed_abortion_admission = abortive.copy()[abortive.code.eq('O021') & abortive.present_on_admission.eq(\"Y\")][['record_id']].drop_duplicates()\n",
    "missed_abortion_admission['missed_abortion_admission'] = 1"
   ]
  },
  {
   "cell_type": "markdown",
   "metadata": {},
   "source": [
    "### Intrauterine fetal demise\n",
    "Indicates fetal death in utero at 20 weeks and up"
   ]
  },
  {
   "cell_type": "code",
   "execution_count": null,
   "metadata": {},
   "outputs": [],
   "source": [
    "iufd_codes = pd.read_sql(\"\"\"\n",
    "    select * from discharge_diagnosis\n",
    "        where record_id in {0}\n",
    "        and code like 'O364%%';\n",
    "\"\"\".format(tuple(delivery_smm.record_id)),con=engine)\n",
    "\n",
    "iufd_codes"
   ]
  },
  {
   "cell_type": "code",
   "execution_count": null,
   "metadata": {},
   "outputs": [],
   "source": [
    "iufd_codes['iufd'] = 1\n",
    "iufd_codes.loc[iufd_codes.present_on_admission.eq(\"Y\"),'iufd_on_admission'] = 1\n",
    "\n",
    "on_admission = iufd_codes[iufd_codes.iufd_on_admission.eq(1)][['record_id','iufd_on_admission']].drop_duplicates()\n",
    "iufd = iufd_codes[['record_id','iufd']].drop_duplicates()\n",
    "delivery_smm.drop([c for c in delivery_smm.columns if c.find(\"iufd\")==0],axis=1,inplace=True)\n",
    "delivery_smm = pd.merge(delivery_smm,iufd,on=\"record_id\",how=\"left\")\n",
    "delivery_smm = pd.merge(delivery_smm,on_admission,on=\"record_id\",how=\"left\")"
   ]
  },
  {
   "cell_type": "code",
   "execution_count": null,
   "metadata": {},
   "outputs": [],
   "source": [
    "delivery_smm.iufd_on_admission.value_counts()"
   ]
  },
  {
   "cell_type": "code",
   "execution_count": null,
   "metadata": {},
   "outputs": [],
   "source": [
    "delivery_smm.iufd = delivery_smm.iufd.fillna(0)\n",
    "delivery_smm.iufd_on_admission = delivery_smm.iufd_on_admission.fillna(0)\n",
    "delivery_smm.head()"
   ]
  },
  {
   "cell_type": "markdown",
   "metadata": {},
   "source": [
    "### Combine IUFD and missed abortion\n",
    "This gives us our fetal demise on admission definition"
   ]
  },
  {
   "cell_type": "code",
   "execution_count": null,
   "metadata": {},
   "outputs": [],
   "source": [
    "delivery_smm.loc[\n",
    "    delivery_smm.iufd_on_admission.eq(1)|delivery_smm.missed_abortion_admission.eq(1),\n",
    "    'fetal_demise_admission'] = 1\n",
    "\n",
    "delivery_smm.fetal_demise_admission = delivery_smm.fetal_demise_admission.fillna(0)\n"
   ]
  },
  {
   "cell_type": "markdown",
   "metadata": {},
   "source": [
    "### Save to file"
   ]
  },
  {
   "cell_type": "code",
   "execution_count": null,
   "metadata": {},
   "outputs": [],
   "source": [
    "delivery_smm.to_csv(\"../data/processed/delivery_smm.csv\",index=False)"
   ]
  },
  {
   "cell_type": "code",
   "execution_count": null,
   "metadata": {},
   "outputs": [],
   "source": [
    "delivery_smm.record_id.value_counts()"
   ]
  },
  {
   "cell_type": "code",
   "execution_count": null,
   "metadata": {},
   "outputs": [],
   "source": [
    "delivery_smm.year.value_counts()"
   ]
  }
 ],
 "metadata": {
  "kernelspec": {
   "display_name": "texas-second-trimester-sepsis-AEetMFiv-py3.12",
   "language": "python",
   "name": "python3"
  },
  "language_info": {
   "codemirror_mode": {
    "name": "ipython",
    "version": 3
   },
   "file_extension": ".py",
   "mimetype": "text/x-python",
   "name": "python",
   "nbconvert_exporter": "python",
   "pygments_lexer": "ipython3",
   "version": "3.12.7"
  }
 },
 "nbformat": 4,
 "nbformat_minor": 4
}
