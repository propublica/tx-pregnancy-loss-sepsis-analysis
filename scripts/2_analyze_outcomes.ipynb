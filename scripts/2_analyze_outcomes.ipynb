{
 "cells": [
  {
   "cell_type": "code",
   "execution_count": null,
   "metadata": {},
   "outputs": [],
   "source": [
    "import pandas as pd\n",
    "import numpy as np\n",
    "pd.set_option('display.max_columns', 1000)\n",
    "from utils import get_engine\n",
    "\n",
    "engine = get_engine()"
   ]
  },
  {
   "cell_type": "markdown",
   "metadata": {},
   "source": [
    "## Import and filter data"
   ]
  },
  {
   "cell_type": "code",
   "execution_count": null,
   "metadata": {},
   "outputs": [],
   "source": [
    "delivery_smm = pd.read_csv(\"../data/processed/delivery_smm.csv\",dtype={\n",
    "    'record_id':str\n",
    "})\n",
    "\n",
    "# filter out 2016 data\n",
    "delivery_smm = delivery_smm[\n",
    "    ~delivery_smm.year.eq(2016)\n",
    "]\n",
    "\n",
    "# apply age/gender filter\n",
    "delivery_smm = delivery_smm[\n",
    "    delivery_smm.age_gender_filter.eq(1)\n",
    "]\n",
    "\n",
    "len(delivery_smm)"
   ]
  },
  {
   "cell_type": "markdown",
   "metadata": {},
   "source": [
    "## Analyze"
   ]
  },
  {
   "cell_type": "markdown",
   "metadata": {},
   "source": [
    "Summarize annual hospitalizations:"
   ]
  },
  {
   "cell_type": "code",
   "execution_count": null,
   "metadata": {},
   "outputs": [],
   "source": [
    "delivery_smm.year.value_counts(sort=False)"
   ]
  },
  {
   "cell_type": "markdown",
   "metadata": {},
   "source": [
    "Count of rows missing gestational weeks:"
   ]
  },
  {
   "cell_type": "markdown",
   "metadata": {},
   "source": [
    "Rows missing gestational week:"
   ]
  },
  {
   "cell_type": "code",
   "execution_count": null,
   "metadata": {},
   "outputs": [],
   "source": [
    "no_gw_len = len(delivery_smm[delivery_smm.weeks_gestation.isna()])\n",
    "\n",
    "no_gw_len"
   ]
  },
  {
   "cell_type": "code",
   "execution_count": null,
   "metadata": {},
   "outputs": [],
   "source": [
    "no_gw_len/len(delivery_smm)"
   ]
  },
  {
   "cell_type": "markdown",
   "metadata": {},
   "source": [
    "#### Narrow to 13-21 weeks and create time bins"
   ]
  },
  {
   "cell_type": "code",
   "execution_count": null,
   "metadata": {},
   "outputs": [],
   "source": [
    "early_records = delivery_smm.copy()[\n",
    "    delivery_smm.weeks_gestation.lt(22)&\n",
    "    delivery_smm.weeks_gestation.ge(13)\n",
    "]\n",
    "\n",
    "# create categories for nine quarters before and after SB 8\n",
    "early_records.loc[\n",
    "    early_records.year.ge(2022)|early_records.discharge.eq('2021Q4'),'time_bin'\n",
    "] = 'after_sb8'\n",
    "early_records.loc[\n",
    "    early_records.discharge.isin(['2019Q3','2019Q4'])|early_records.year.eq(2020)|early_records.discharge.isin(['2021Q3','2021Q2','2021Q1']),'time_bin'\n",
    "] = 'before_sb8'"
   ]
  },
  {
   "cell_type": "markdown",
   "metadata": {},
   "source": [
    "Number of week 13-21 hospitalizations"
   ]
  },
  {
   "cell_type": "code",
   "execution_count": null,
   "metadata": {},
   "outputs": [],
   "source": [
    "len(early_records)"
   ]
  },
  {
   "cell_type": "code",
   "execution_count": null,
   "metadata": {},
   "outputs": [],
   "source": [
    "early_records.year.value_counts(sort=False)"
   ]
  },
  {
   "cell_type": "markdown",
   "metadata": {},
   "source": [
    "Before/after summary table"
   ]
  },
  {
   "cell_type": "code",
   "execution_count": null,
   "metadata": {},
   "outputs": [],
   "source": [
    "sepsis_summary = early_records.groupby('time_bin')[['pregnancy_end','sepsis_combined']].sum().reset_index().sort_values('time_bin',ascending=False)\n",
    "sepsis_summary['pct_sepsis'] = sepsis_summary.sepsis_combined/sepsis_summary.pregnancy_end\n",
    "\n",
    "sepsis_summary"
   ]
  },
  {
   "cell_type": "markdown",
   "metadata": {},
   "source": [
    "#### Fetal demise"
   ]
  },
  {
   "cell_type": "markdown",
   "metadata": {},
   "source": [
    "Hospitalizations with a diagnosis of fetal demise on admission"
   ]
  },
  {
   "cell_type": "code",
   "execution_count": null,
   "metadata": {},
   "outputs": [],
   "source": [
    "no_hb_summary = early_records[early_records.no_fetal_heartbeat_admission.eq(1)].groupby('time_bin')[['pregnancy_end','sepsis_combined']].sum().reset_index().sort_values('time_bin',ascending=False)\n",
    "no_hb_summary['pct_sepsis'] = no_hb_summary.sepsis_combined/no_hb_summary.pregnancy_end\n",
    "\n",
    "no_hb_summary"
   ]
  },
  {
   "cell_type": "markdown",
   "metadata": {},
   "source": [
    "Hospitalizations with no diagnosis of fetal demise on admission"
   ]
  },
  {
   "cell_type": "code",
   "execution_count": null,
   "metadata": {},
   "outputs": [],
   "source": [
    "hb_summary = early_records[early_records.no_fetal_heartbeat_admission.eq(0)].groupby('time_bin')[['pregnancy_end','sepsis_combined']].sum().reset_index().sort_values('time_bin',ascending=False)\n",
    "hb_summary['pct_sepsis'] = hb_summary.sepsis_combined/hb_summary.pregnancy_end\n",
    "\n",
    "hb_summary"
   ]
  }
 ],
 "metadata": {
  "kernelspec": {
   "display_name": "Python 3 (ipykernel)",
   "language": "python",
   "name": "python3"
  },
  "language_info": {
   "codemirror_mode": {
    "name": "ipython",
    "version": 3
   },
   "file_extension": ".py",
   "mimetype": "text/x-python",
   "name": "python",
   "nbconvert_exporter": "python",
   "pygments_lexer": "ipython3",
   "version": "3.12.7"
  }
 },
 "nbformat": 4,
 "nbformat_minor": 4
}
